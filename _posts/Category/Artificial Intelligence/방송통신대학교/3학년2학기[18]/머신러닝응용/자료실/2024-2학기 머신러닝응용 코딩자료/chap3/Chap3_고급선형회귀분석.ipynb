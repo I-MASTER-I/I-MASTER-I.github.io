{
 "cells": [
  {
   "cell_type": "markdown",
   "metadata": {},
   "source": [
    "# ▒ 고급회귀분석 ▒"
   ]
  },
  {
   "cell_type": "markdown",
   "metadata": {},
   "source": [
    "## 0. 환경설정"
   ]
  },
  {
   "cell_type": "code",
   "execution_count": 98,
   "metadata": {},
   "outputs": [],
   "source": [
    "import os\n",
    "import numpy as np\n",
    "import pandas as pd\n",
    "import matplotlib\n",
    "import matplotlib.pyplot as plt\n",
    "from sklearn.linear_model import Ridge, Lasso\n",
    "\n",
    "from sklearn import preprocessing\n",
    "from sklearn.model_selection import cross_val_score\n",
    "from sklearn.decomposition import PCA\n",
    "import statsmodels.formula.api as smf"
   ]
  },
  {
   "cell_type": "markdown",
   "metadata": {},
   "source": [
    "## 1. 데이터 준비"
   ]
  },
  {
   "cell_type": "markdown",
   "metadata": {},
   "source": [
    "### 데이터 설명 (fat dataset)\n",
    "\n",
    "- 252명의 남성의 나이, 몸무게, 키 등의 신체 정보와 비만도를 측정한 자료.\n",
    "- 나머지 정보를 이용해서 비만도 (brozek)를 예측하는 모형을 구축하자."
   ]
  },
  {
   "cell_type": "markdown",
   "metadata": {},
   "source": [
    "### 데이터 호출"
   ]
  },
  {
   "cell_type": "code",
   "execution_count": 50,
   "metadata": {},
   "outputs": [
    {
     "name": "stdout",
     "output_type": "stream",
     "text": [
      "(252, 18)\n"
     ]
    },
    {
     "data": {
      "text/html": [
       "<div>\n",
       "<style scoped>\n",
       "    .dataframe tbody tr th:only-of-type {\n",
       "        vertical-align: middle;\n",
       "    }\n",
       "\n",
       "    .dataframe tbody tr th {\n",
       "        vertical-align: top;\n",
       "    }\n",
       "\n",
       "    .dataframe thead th {\n",
       "        text-align: right;\n",
       "    }\n",
       "</style>\n",
       "<table border=\"1\" class=\"dataframe\">\n",
       "  <thead>\n",
       "    <tr style=\"text-align: right;\">\n",
       "      <th></th>\n",
       "      <th>brozek</th>\n",
       "      <th>siri</th>\n",
       "      <th>density</th>\n",
       "      <th>age</th>\n",
       "      <th>weight</th>\n",
       "      <th>height</th>\n",
       "      <th>adipos</th>\n",
       "      <th>free</th>\n",
       "      <th>neck</th>\n",
       "      <th>chest</th>\n",
       "      <th>abdom</th>\n",
       "      <th>hip</th>\n",
       "      <th>thigh</th>\n",
       "      <th>knee</th>\n",
       "      <th>ankle</th>\n",
       "      <th>biceps</th>\n",
       "      <th>forearm</th>\n",
       "      <th>wrist</th>\n",
       "    </tr>\n",
       "  </thead>\n",
       "  <tbody>\n",
       "    <tr>\n",
       "      <th>0</th>\n",
       "      <td>12.6</td>\n",
       "      <td>12.3</td>\n",
       "      <td>1.0708</td>\n",
       "      <td>23</td>\n",
       "      <td>154.25</td>\n",
       "      <td>67.75</td>\n",
       "      <td>23.7</td>\n",
       "      <td>134.9</td>\n",
       "      <td>36.2</td>\n",
       "      <td>93.1</td>\n",
       "      <td>85.2</td>\n",
       "      <td>94.5</td>\n",
       "      <td>59.0</td>\n",
       "      <td>37.3</td>\n",
       "      <td>21.9</td>\n",
       "      <td>32.0</td>\n",
       "      <td>27.4</td>\n",
       "      <td>17.1</td>\n",
       "    </tr>\n",
       "    <tr>\n",
       "      <th>1</th>\n",
       "      <td>6.9</td>\n",
       "      <td>6.1</td>\n",
       "      <td>1.0853</td>\n",
       "      <td>22</td>\n",
       "      <td>173.25</td>\n",
       "      <td>72.25</td>\n",
       "      <td>23.4</td>\n",
       "      <td>161.3</td>\n",
       "      <td>38.5</td>\n",
       "      <td>93.6</td>\n",
       "      <td>83.0</td>\n",
       "      <td>98.7</td>\n",
       "      <td>58.7</td>\n",
       "      <td>37.3</td>\n",
       "      <td>23.4</td>\n",
       "      <td>30.5</td>\n",
       "      <td>28.9</td>\n",
       "      <td>18.2</td>\n",
       "    </tr>\n",
       "    <tr>\n",
       "      <th>2</th>\n",
       "      <td>24.6</td>\n",
       "      <td>25.3</td>\n",
       "      <td>1.0414</td>\n",
       "      <td>22</td>\n",
       "      <td>154.00</td>\n",
       "      <td>66.25</td>\n",
       "      <td>24.7</td>\n",
       "      <td>116.0</td>\n",
       "      <td>34.0</td>\n",
       "      <td>95.8</td>\n",
       "      <td>87.9</td>\n",
       "      <td>99.2</td>\n",
       "      <td>59.6</td>\n",
       "      <td>38.9</td>\n",
       "      <td>24.0</td>\n",
       "      <td>28.8</td>\n",
       "      <td>25.2</td>\n",
       "      <td>16.6</td>\n",
       "    </tr>\n",
       "    <tr>\n",
       "      <th>3</th>\n",
       "      <td>10.9</td>\n",
       "      <td>10.4</td>\n",
       "      <td>1.0751</td>\n",
       "      <td>26</td>\n",
       "      <td>184.75</td>\n",
       "      <td>72.25</td>\n",
       "      <td>24.9</td>\n",
       "      <td>164.7</td>\n",
       "      <td>37.4</td>\n",
       "      <td>101.8</td>\n",
       "      <td>86.4</td>\n",
       "      <td>101.2</td>\n",
       "      <td>60.1</td>\n",
       "      <td>37.3</td>\n",
       "      <td>22.8</td>\n",
       "      <td>32.4</td>\n",
       "      <td>29.4</td>\n",
       "      <td>18.2</td>\n",
       "    </tr>\n",
       "    <tr>\n",
       "      <th>4</th>\n",
       "      <td>27.8</td>\n",
       "      <td>28.7</td>\n",
       "      <td>1.0340</td>\n",
       "      <td>24</td>\n",
       "      <td>184.25</td>\n",
       "      <td>71.25</td>\n",
       "      <td>25.6</td>\n",
       "      <td>133.1</td>\n",
       "      <td>34.4</td>\n",
       "      <td>97.3</td>\n",
       "      <td>100.0</td>\n",
       "      <td>101.9</td>\n",
       "      <td>63.2</td>\n",
       "      <td>42.2</td>\n",
       "      <td>24.0</td>\n",
       "      <td>32.2</td>\n",
       "      <td>27.7</td>\n",
       "      <td>17.7</td>\n",
       "    </tr>\n",
       "  </tbody>\n",
       "</table>\n",
       "</div>"
      ],
      "text/plain": [
       "   brozek  siri  density  age  weight  height  adipos   free  neck  chest  \\\n",
       "0    12.6  12.3   1.0708   23  154.25   67.75    23.7  134.9  36.2   93.1   \n",
       "1     6.9   6.1   1.0853   22  173.25   72.25    23.4  161.3  38.5   93.6   \n",
       "2    24.6  25.3   1.0414   22  154.00   66.25    24.7  116.0  34.0   95.8   \n",
       "3    10.9  10.4   1.0751   26  184.75   72.25    24.9  164.7  37.4  101.8   \n",
       "4    27.8  28.7   1.0340   24  184.25   71.25    25.6  133.1  34.4   97.3   \n",
       "\n",
       "   abdom    hip  thigh  knee  ankle  biceps  forearm  wrist  \n",
       "0   85.2   94.5   59.0  37.3   21.9    32.0     27.4   17.1  \n",
       "1   83.0   98.7   58.7  37.3   23.4    30.5     28.9   18.2  \n",
       "2   87.9   99.2   59.6  38.9   24.0    28.8     25.2   16.6  \n",
       "3   86.4  101.2   60.1  37.3   22.8    32.4     29.4   18.2  \n",
       "4  100.0  101.9   63.2  42.2   24.0    32.2     27.7   17.7  "
      ]
     },
     "execution_count": 50,
     "metadata": {},
     "output_type": "execute_result"
    }
   ],
   "source": [
    "data_file = \"./data/fat.csv\"\n",
    "fat = pd.read_csv(data_file)\n",
    "print(fat.shape)\n",
    "fat.head()"
   ]
  },
  {
   "cell_type": "code",
   "execution_count": 19,
   "metadata": {},
   "outputs": [],
   "source": [
    "xfat = fat.drop(['brozek'], axis=1)\n",
    "yfat = fat['brozek']"
   ]
  },
  {
   "cell_type": "markdown",
   "metadata": {},
   "source": [
    "## 1. 주성분분석 (PCA)\n",
    "### 주성분분석을 위해서는 설명 변수 데이터를 표준화하는 작업이 선행되어야 함."
   ]
  },
  {
   "cell_type": "code",
   "execution_count": 20,
   "metadata": {},
   "outputs": [
    {
     "data": {
      "text/html": [
       "<div>\n",
       "<style scoped>\n",
       "    .dataframe tbody tr th:only-of-type {\n",
       "        vertical-align: middle;\n",
       "    }\n",
       "\n",
       "    .dataframe tbody tr th {\n",
       "        vertical-align: top;\n",
       "    }\n",
       "\n",
       "    .dataframe thead th {\n",
       "        text-align: right;\n",
       "    }\n",
       "</style>\n",
       "<table border=\"1\" class=\"dataframe\">\n",
       "  <thead>\n",
       "    <tr style=\"text-align: right;\">\n",
       "      <th></th>\n",
       "      <th>siri</th>\n",
       "      <th>density</th>\n",
       "      <th>age</th>\n",
       "      <th>weight</th>\n",
       "      <th>height</th>\n",
       "      <th>adipos</th>\n",
       "      <th>free</th>\n",
       "      <th>neck</th>\n",
       "      <th>chest</th>\n",
       "      <th>abdom</th>\n",
       "      <th>hip</th>\n",
       "      <th>thigh</th>\n",
       "      <th>knee</th>\n",
       "      <th>ankle</th>\n",
       "      <th>biceps</th>\n",
       "      <th>forearm</th>\n",
       "      <th>wrist</th>\n",
       "    </tr>\n",
       "  </thead>\n",
       "  <tbody>\n",
       "    <tr>\n",
       "      <th>0</th>\n",
       "      <td>-0.820246</td>\n",
       "      <td>0.801647</td>\n",
       "      <td>-1.740073</td>\n",
       "      <td>-0.841246</td>\n",
       "      <td>-0.656205</td>\n",
       "      <td>-0.477058</td>\n",
       "      <td>-0.484401</td>\n",
       "      <td>-0.738665</td>\n",
       "      <td>-0.918048</td>\n",
       "      <td>-0.683533</td>\n",
       "      <td>-0.755929</td>\n",
       "      <td>-0.077479</td>\n",
       "      <td>-0.536131</td>\n",
       "      <td>-0.710826</td>\n",
       "      <td>-0.090676</td>\n",
       "      <td>-0.626718</td>\n",
       "      <td>-1.212541</td>\n",
       "    </tr>\n",
       "    <tr>\n",
       "      <th>1</th>\n",
       "      <td>-1.562573</td>\n",
       "      <td>1.565061</td>\n",
       "      <td>-1.819583</td>\n",
       "      <td>-0.193462</td>\n",
       "      <td>0.574790</td>\n",
       "      <td>-0.559456</td>\n",
       "      <td>0.966512</td>\n",
       "      <td>0.209365</td>\n",
       "      <td>-0.858621</td>\n",
       "      <td>-0.887963</td>\n",
       "      <td>-0.168502</td>\n",
       "      <td>-0.134736</td>\n",
       "      <td>-0.536131</td>\n",
       "      <td>0.175947</td>\n",
       "      <td>-0.588143</td>\n",
       "      <td>0.117079</td>\n",
       "      <td>-0.031943</td>\n",
       "    </tr>\n",
       "    <tr>\n",
       "      <th>2</th>\n",
       "      <td>0.736245</td>\n",
       "      <td>-0.746240</td>\n",
       "      <td>-1.819583</td>\n",
       "      <td>-0.849769</td>\n",
       "      <td>-1.066536</td>\n",
       "      <td>-0.202398</td>\n",
       "      <td>-1.523123</td>\n",
       "      <td>-1.645475</td>\n",
       "      <td>-0.597144</td>\n",
       "      <td>-0.432643</td>\n",
       "      <td>-0.098570</td>\n",
       "      <td>0.037035</td>\n",
       "      <td>0.128592</td>\n",
       "      <td>0.530656</td>\n",
       "      <td>-1.151940</td>\n",
       "      <td>-1.717621</td>\n",
       "      <td>-1.749177</td>\n",
       "    </tr>\n",
       "    <tr>\n",
       "      <th>3</th>\n",
       "      <td>-1.047733</td>\n",
       "      <td>1.028039</td>\n",
       "      <td>-1.501543</td>\n",
       "      <td>0.198617</td>\n",
       "      <td>0.574790</td>\n",
       "      <td>-0.147466</td>\n",
       "      <td>1.153373</td>\n",
       "      <td>-0.244041</td>\n",
       "      <td>0.115976</td>\n",
       "      <td>-0.572026</td>\n",
       "      <td>0.181157</td>\n",
       "      <td>0.132464</td>\n",
       "      <td>-0.536131</td>\n",
       "      <td>-0.178762</td>\n",
       "      <td>0.041982</td>\n",
       "      <td>0.365012</td>\n",
       "      <td>-0.031943</td>\n",
       "    </tr>\n",
       "    <tr>\n",
       "      <th>4</th>\n",
       "      <td>1.143327</td>\n",
       "      <td>-1.135844</td>\n",
       "      <td>-1.660563</td>\n",
       "      <td>0.181570</td>\n",
       "      <td>0.301235</td>\n",
       "      <td>0.044796</td>\n",
       "      <td>-0.583327</td>\n",
       "      <td>-1.480601</td>\n",
       "      <td>-0.418864</td>\n",
       "      <td>0.691719</td>\n",
       "      <td>0.279061</td>\n",
       "      <td>0.724121</td>\n",
       "      <td>1.499585</td>\n",
       "      <td>0.530656</td>\n",
       "      <td>-0.024347</td>\n",
       "      <td>-0.477959</td>\n",
       "      <td>-0.568578</td>\n",
       "    </tr>\n",
       "  </tbody>\n",
       "</table>\n",
       "</div>"
      ],
      "text/plain": [
       "       siri   density       age    weight    height    adipos      free  \\\n",
       "0 -0.820246  0.801647 -1.740073 -0.841246 -0.656205 -0.477058 -0.484401   \n",
       "1 -1.562573  1.565061 -1.819583 -0.193462  0.574790 -0.559456  0.966512   \n",
       "2  0.736245 -0.746240 -1.819583 -0.849769 -1.066536 -0.202398 -1.523123   \n",
       "3 -1.047733  1.028039 -1.501543  0.198617  0.574790 -0.147466  1.153373   \n",
       "4  1.143327 -1.135844 -1.660563  0.181570  0.301235  0.044796 -0.583327   \n",
       "\n",
       "       neck     chest     abdom       hip     thigh      knee     ankle  \\\n",
       "0 -0.738665 -0.918048 -0.683533 -0.755929 -0.077479 -0.536131 -0.710826   \n",
       "1  0.209365 -0.858621 -0.887963 -0.168502 -0.134736 -0.536131  0.175947   \n",
       "2 -1.645475 -0.597144 -0.432643 -0.098570  0.037035  0.128592  0.530656   \n",
       "3 -0.244041  0.115976 -0.572026  0.181157  0.132464 -0.536131 -0.178762   \n",
       "4 -1.480601 -0.418864  0.691719  0.279061  0.724121  1.499585  0.530656   \n",
       "\n",
       "     biceps   forearm     wrist  \n",
       "0 -0.090676 -0.626718 -1.212541  \n",
       "1 -0.588143  0.117079 -0.031943  \n",
       "2 -1.151940 -1.717621 -1.749177  \n",
       "3  0.041982  0.365012 -0.031943  \n",
       "4 -0.024347 -0.477959 -0.568578  "
      ]
     },
     "execution_count": 20,
     "metadata": {},
     "output_type": "execute_result"
    }
   ],
   "source": [
    "xfat_st = preprocessing.StandardScaler().fit_transform(xfat)\n",
    "feature_names = ['siri', 'density', 'age', 'weight', 'height', 'adipos', 'free', 'neck',\n",
    "       'chest', 'abdom', 'hip', 'thigh', 'knee', 'ankle', 'biceps', 'forearm',\n",
    "       'wrist']\n",
    "xfat_st = pd.DataFrame(xfat_st, columns=feature_names)\n",
    "xfat_st.head()"
   ]
  },
  {
   "cell_type": "markdown",
   "metadata": {},
   "source": [
    "### 주성분분석 실행하기"
   ]
  },
  {
   "cell_type": "code",
   "execution_count": 65,
   "metadata": {},
   "outputs": [
    {
     "name": "stdout",
     "output_type": "stream",
     "text": [
      "(252, 10)\n"
     ]
    },
    {
     "data": {
      "text/html": [
       "<div>\n",
       "<style scoped>\n",
       "    .dataframe tbody tr th:only-of-type {\n",
       "        vertical-align: middle;\n",
       "    }\n",
       "\n",
       "    .dataframe tbody tr th {\n",
       "        vertical-align: top;\n",
       "    }\n",
       "\n",
       "    .dataframe thead th {\n",
       "        text-align: right;\n",
       "    }\n",
       "</style>\n",
       "<table border=\"1\" class=\"dataframe\">\n",
       "  <thead>\n",
       "    <tr style=\"text-align: right;\">\n",
       "      <th></th>\n",
       "      <th>pc1</th>\n",
       "      <th>pc2</th>\n",
       "      <th>pc3</th>\n",
       "      <th>pc4</th>\n",
       "      <th>pc5</th>\n",
       "      <th>pc6</th>\n",
       "      <th>pc7</th>\n",
       "      <th>pc8</th>\n",
       "      <th>pc9</th>\n",
       "      <th>pc10</th>\n",
       "    </tr>\n",
       "  </thead>\n",
       "  <tbody>\n",
       "    <tr>\n",
       "      <th>0</th>\n",
       "      <td>-2.555110</td>\n",
       "      <td>-0.642961</td>\n",
       "      <td>1.847360</td>\n",
       "      <td>0.353975</td>\n",
       "      <td>-0.215243</td>\n",
       "      <td>-0.259544</td>\n",
       "      <td>-0.056970</td>\n",
       "      <td>0.350679</td>\n",
       "      <td>0.145460</td>\n",
       "      <td>-0.073107</td>\n",
       "    </tr>\n",
       "    <tr>\n",
       "      <th>1</th>\n",
       "      <td>-1.434682</td>\n",
       "      <td>-2.932980</td>\n",
       "      <td>0.672117</td>\n",
       "      <td>0.377292</td>\n",
       "      <td>-0.034448</td>\n",
       "      <td>-0.200036</td>\n",
       "      <td>-0.586670</td>\n",
       "      <td>-0.473018</td>\n",
       "      <td>0.352508</td>\n",
       "      <td>-0.193671</td>\n",
       "    </tr>\n",
       "    <tr>\n",
       "      <th>2</th>\n",
       "      <td>-2.157678</td>\n",
       "      <td>1.387028</td>\n",
       "      <td>2.872635</td>\n",
       "      <td>-1.240407</td>\n",
       "      <td>1.526779</td>\n",
       "      <td>0.591437</td>\n",
       "      <td>0.039899</td>\n",
       "      <td>-0.113380</td>\n",
       "      <td>0.233466</td>\n",
       "      <td>0.045837</td>\n",
       "    </tr>\n",
       "    <tr>\n",
       "      <th>3</th>\n",
       "      <td>-0.353587</td>\n",
       "      <td>-2.243396</td>\n",
       "      <td>0.780617</td>\n",
       "      <td>0.294658</td>\n",
       "      <td>-0.431292</td>\n",
       "      <td>-0.502801</td>\n",
       "      <td>-0.432545</td>\n",
       "      <td>-0.293055</td>\n",
       "      <td>-0.251761</td>\n",
       "      <td>0.537481</td>\n",
       "    </tr>\n",
       "    <tr>\n",
       "      <th>4</th>\n",
       "      <td>0.638617</td>\n",
       "      <td>0.489410</td>\n",
       "      <td>2.185015</td>\n",
       "      <td>-1.913758</td>\n",
       "      <td>0.691903</td>\n",
       "      <td>0.625321</td>\n",
       "      <td>1.099185</td>\n",
       "      <td>-0.016946</td>\n",
       "      <td>0.357656</td>\n",
       "      <td>0.509276</td>\n",
       "    </tr>\n",
       "  </tbody>\n",
       "</table>\n",
       "</div>"
      ],
      "text/plain": [
       "        pc1       pc2       pc3       pc4       pc5       pc6       pc7  \\\n",
       "0 -2.555110 -0.642961  1.847360  0.353975 -0.215243 -0.259544 -0.056970   \n",
       "1 -1.434682 -2.932980  0.672117  0.377292 -0.034448 -0.200036 -0.586670   \n",
       "2 -2.157678  1.387028  2.872635 -1.240407  1.526779  0.591437  0.039899   \n",
       "3 -0.353587 -2.243396  0.780617  0.294658 -0.431292 -0.502801 -0.432545   \n",
       "4  0.638617  0.489410  2.185015 -1.913758  0.691903  0.625321  1.099185   \n",
       "\n",
       "        pc8       pc9      pc10  \n",
       "0  0.350679  0.145460 -0.073107  \n",
       "1 -0.473018  0.352508 -0.193671  \n",
       "2 -0.113380  0.233466  0.045837  \n",
       "3 -0.293055 -0.251761  0.537481  \n",
       "4 -0.016946  0.357656  0.509276  "
      ]
     },
     "execution_count": 65,
     "metadata": {},
     "output_type": "execute_result"
    }
   ],
   "source": [
    "pca = PCA(n_components = 10)\n",
    "pca_components = pca.fit_transform(xfat_st)\n",
    "pca_xfat = pd.DataFrame(data=pca_components,columns=\n",
    "                        ['pc1','pc2','pc3','pc4','pc5',\n",
    "                         'pc6','pc7','pc8','pc9','pc10'])\n",
    "pca_xfat.head()"
   ]
  },
  {
   "cell_type": "markdown",
   "metadata": {},
   "source": [
    "### 최적의 주성분 수 계산하기\n",
    "- Scree plot을 이용하여 최적의 주성분 수를 구함.\n",
    "- Scree plot: PCA 분석 후 주성분 수를 선정하기 위해 고유값-주성분의 분산 변화를 보는 그래프\n",
    "- 분산 변화율이 완만해지는 주성분의 수를 선정\n",
    "- 해당 데이터의 경우 주성분 3개가 적당해보임"
   ]
  },
  {
   "cell_type": "code",
   "execution_count": 66,
   "metadata": {},
   "outputs": [
    {
     "data": {
      "text/plain": [
       "Text(0, 0.5, 'Propotion of Variance')"
      ]
     },
     "execution_count": 66,
     "metadata": {},
     "output_type": "execute_result"
    },
    {
     "data": {
      "image/png": "[encoded data removed]",
      "text/plain": [
       "<Figure size 720x360 with 1 Axes>"
      ]
     },
     "metadata": {
      "needs_background": "light"
     },
     "output_type": "display_data"
    }
   ],
   "source": [
    "fig = plt.figure(figsize = (10, 5))\n",
    "sing_vals = np.arange(10) + 1\n",
    "plt.plot(sing_vals, pca.explained_variance_ratio_, \n",
    "         'ro-', linewidth = 3)\n",
    "plt.title('Scree Plot')\n",
    "plt.xlabel('Principal Component')\n",
    "plt.ylabel('Propotion of Variance')"
   ]
  },
  {
   "cell_type": "markdown",
   "metadata": {},
   "source": [
    "## 3. 주성분 회귀분석\n",
    "### 3개의 주성분으로 비만도를 예측하는 선형모형을 적합하자."
   ]
  },
  {
   "cell_type": "code",
   "execution_count": 64,
   "metadata": {},
   "outputs": [
    {
     "name": "stdout",
     "output_type": "stream",
     "text": [
      "                            OLS Regression Results                            \n",
      "==============================================================================\n",
      "Dep. Variable:                 brozek   R-squared:                       0.902\n",
      "Model:                            OLS   Adj. R-squared:                  0.900\n",
      "Method:                 Least Squares   F-statistic:                     757.4\n",
      "Date:                Mon, 06 Jun 2022   Prob (F-statistic):          1.62e-124\n",
      "Time:                        14:09:14   Log-Likelihood:                -580.96\n",
      "No. Observations:                 252   AIC:                             1170.\n",
      "Df Residuals:                     248   BIC:                             1184.\n",
      "Df Model:                           3                                         \n",
      "Covariance Type:            nonrobust                                         \n",
      "==============================================================================\n",
      "                 coef    std err          t      P>|t|      [0.025      0.975]\n",
      "------------------------------------------------------------------------------\n",
      "Intercept     18.9385      0.154    122.910      0.000      18.635      19.242\n",
      "pc1            1.6608      0.048     34.525      0.000       1.566       1.756\n",
      "pc2            3.2789      0.101     32.524      0.000       3.080       3.477\n",
      "pc3            0.7015      0.148      4.748      0.000       0.411       0.993\n",
      "==============================================================================\n",
      "Omnibus:                       68.485   Durbin-Watson:                   1.637\n",
      "Prob(Omnibus):                  0.000   Jarque-Bera (JB):              310.232\n",
      "Skew:                          -1.011   Prob(JB):                     4.30e-68\n",
      "Kurtosis:                       8.045   Cond. No.                         3.20\n",
      "==============================================================================\n",
      "\n",
      "Notes:\n",
      "[1] Standard Errors assume that the covariance matrix of the errors is correctly specified.\n"
     ]
    }
   ],
   "source": [
    "pca_fat = pd.concat([yfat,pca_xfat[['pc1', 'pc2', 'pc3']]], axis=1)\n",
    "## 선형모형 적합\n",
    "pcalmfit = smf.ols(formula='brozek~pc1+pc2+pc3', data=pca_fat).fit()\n",
    "print(pcalmfit.summary())"
   ]
  },
  {
   "cell_type": "markdown",
   "metadata": {},
   "source": [
    "## 4. Shrinkage Method\n",
    "### 4-1. Ridge regression"
   ]
  },
  {
   "cell_type": "code",
   "execution_count": 137,
   "metadata": {},
   "outputs": [],
   "source": [
    "alphas = np.logspace(2, -10, 200)\n",
    "rmse = []\n",
    "for alpha in alphas:\n",
    "    neg_mse_scores = cross_val_score(Ridge(alpha), xfat_st, yfat, \n",
    "                                     scoring='neg_mean_squared_error', cv=3)\n",
    "    rmse_scores = np.sqrt(-1 * neg_mse_scores)\n",
    "    rmse.append(np.mean(rmse_scores))"
   ]
  },
  {
   "cell_type": "code",
   "execution_count": 138,
   "metadata": {},
   "outputs": [
    {
     "data": {
      "image/png": "[encoded data removed]",
      "text/plain": [
       "<Figure size 432x288 with 1 Axes>"
      ]
     },
     "metadata": {
      "needs_background": "light"
     },
     "output_type": "display_data"
    }
   ],
   "source": [
    "best_alpha = alphas[list(rmse==min(rmse)).index(True)]\n",
    "plt.plot(alphas, rmse, label=Ridge.__name__)\n",
    "plt.axvline(best_alpha, color = 'r')\n",
    "plt.legend(loc = 'lower right')\n",
    "plt.xscale(\"log\")\n",
    "plt.xlabel('alpha')\n",
    "plt.ylabel('Root Mean Square Error')\n",
    "plt.tight_layout()\n",
    "plt.show()"
   ]
  },
  {
   "cell_type": "code",
   "execution_count": 141,
   "metadata": {},
   "outputs": [
    {
     "name": "stdout",
     "output_type": "stream",
     "text": [
      "18.938492063492067\n",
      "[ 7.42009341e+00 -1.87004321e-01 -6.62524123e-03  2.48887207e-01\n",
      " -1.99545282e-03 -5.57956160e-02 -1.77200971e-01  1.21347867e-03\n",
      "  1.80509937e-02  1.55655884e-02 -3.18267718e-02  8.22217091e-02\n",
      " -6.06869824e-02  4.70068114e-03 -4.43648926e-02  3.02468282e-02\n",
      "  3.04227118e-02]\n"
     ]
    }
   ],
   "source": [
    "optimal_ridge = Ridge(best_alpha)\n",
    "optimal_ridge.fit(xfat_st, yfat)\n",
    "print(optimal_ridge.intercept_)\n",
    "print(optimal_ridge.coef_)"
   ]
  },
  {
   "cell_type": "markdown",
   "metadata": {},
   "source": [
    "### 4-2. Lasso regression"
   ]
  },
  {
   "cell_type": "code",
   "execution_count": 146,
   "metadata": {},
   "outputs": [],
   "source": [
    "alphas = np.logspace(1, -5, 200)\n",
    "rmse = []\n",
    "for alpha in alphas:\n",
    "    neg_mse_scores = cross_val_score(Lasso(alpha, max_iter=10000), xfat_st, yfat, \n",
    "                                     scoring='neg_mean_squared_error', cv=3)\n",
    "    rmse_scores = np.sqrt(-1 * neg_mse_scores)\n",
    "    rmse.append(np.mean(rmse_scores))"
   ]
  },
  {
   "cell_type": "code",
   "execution_count": 147,
   "metadata": {},
   "outputs": [
    {
     "data": {
      "image/png": "[encoded data removed]",
      "text/plain": [
       "<Figure size 432x288 with 1 Axes>"
      ]
     },
     "metadata": {
      "needs_background": "light"
     },
     "output_type": "display_data"
    }
   ],
   "source": [
    "best_alpha = alphas[list(rmse==min(rmse)).index(True)]\n",
    "plt.plot(alphas, rmse, label=Lasso.__name__)\n",
    "plt.axvline(best_alpha, color = 'r')\n",
    "plt.legend(loc = 'lower right')\n",
    "plt.xscale(\"log\")\n",
    "plt.xlabel('alpha')\n",
    "plt.ylabel('Root Mean Square Error')\n",
    "plt.tight_layout()\n",
    "plt.show()"
   ]
  },
  {
   "cell_type": "code",
   "execution_count": 149,
   "metadata": {},
   "outputs": [
    {
     "name": "stdout",
     "output_type": "stream",
     "text": [
      "18.938492063492067\n",
      "[ 7.57372300e+00 -1.37753930e-01 -0.00000000e+00  0.00000000e+00\n",
      "  0.00000000e+00  0.00000000e+00  0.00000000e+00  0.00000000e+00\n",
      "  0.00000000e+00  0.00000000e+00  0.00000000e+00  6.41373707e-03\n",
      "  0.00000000e+00  0.00000000e+00  0.00000000e+00  2.68691580e-04\n",
      "  0.00000000e+00]\n"
     ]
    }
   ],
   "source": [
    "optimal_lasso = Lasso(best_alpha)\n",
    "optimal_lasso.fit(xfat_st, yfat)\n",
    "print(optimal_lasso.intercept_)\n",
    "print(optimal_lasso.coef_)"
   ]
  }
 ],
 "metadata": {
  "kernelspec": {
   "display_name": "Python 3.6",
   "language": "python",
   "name": "python3.6"
  },
  "language_info": {
   "codemirror_mode": {
    "name": "ipython",
    "version": 3
   },
   "file_extension": ".py",
   "mimetype": "text/x-python",
   "name": "python",
   "nbconvert_exporter": "python",
   "pygments_lexer": "ipython3",
   "version": "3.6.12"
  }
 },
 "nbformat": 4,
 "nbformat_minor": 4
}
