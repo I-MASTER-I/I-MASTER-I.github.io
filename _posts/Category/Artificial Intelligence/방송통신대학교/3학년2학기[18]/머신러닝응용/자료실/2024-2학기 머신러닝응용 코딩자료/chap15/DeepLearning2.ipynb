{
  "cells": [
    {
      "cell_type": "markdown",
      "metadata": {
        "id": "-rkehQXX4yLa"
      },
      "source": [
        "# ▒  Keras를 활용한 GANs 실습 ▒\n",
        "    \n",
        "## Mnist data 사용"
      ]
    },
    {
      "cell_type": "markdown",
      "metadata": {
        "id": "_nXGAL0p4yLf"
      },
      "source": [
        "## 0. 환경설정"
      ]
    },
    {
      "cell_type": "code",
      "execution_count": 55,
      "metadata": {
        "id": "Rt3Ig6sK4yLg"
      },
      "outputs": [],
      "source": [
        "import tensorflow as tf\n",
        "from tensorflow.keras.datasets import mnist\n",
        "from tensorflow.keras import layers\n",
        "\n",
        "import matplotlib.pyplot as plt\n",
        "import pandas as pd\n",
        "import numpy as np\n",
        "import time"
      ]
    },
    {
      "cell_type": "markdown",
      "metadata": {
        "id": "G2O4tsB34yLi"
      },
      "source": [
        "## 1. 데이터 확인"
      ]
    },
    {
      "cell_type": "code",
      "execution_count": 56,
      "metadata": {
        "scrolled": true,
        "id": "QHlDBCR74yLi"
      },
      "outputs": [],
      "source": [
        "(x_train, y_train), (x_test, y_test) = mnist.load_data()"
      ]
    },
    {
      "cell_type": "code",
      "execution_count": 57,
      "metadata": {
        "colab": {
          "base_uri": "https://localhost:8080/"
        },
        "id": "moCbZujB4yLj",
        "outputId": "9eef3af4-06c4-48e4-ef72-8f0c812d9e99"
      },
      "outputs": [
        {
          "output_type": "stream",
          "name": "stdout",
          "text": [
            "(60000, 28, 28)\n",
            "(60000,)\n",
            "(10000, 28, 28)\n",
            "(10000,)\n"
          ]
        }
      ],
      "source": [
        "# 데이터 포맷 확인\n",
        "print(x_train.shape)\n",
        "print(y_train.shape)\n",
        "print(x_test.shape)\n",
        "print(y_test.shape)"
      ]
    },
    {
      "cell_type": "code",
      "execution_count": 58,
      "metadata": {
        "colab": {
          "base_uri": "https://localhost:8080/",
          "height": 523
        },
        "id": "gdsNP73a4yLk",
        "outputId": "afd2163f-40a3-4d8d-d1e0-73ebd057fbcf"
      },
      "outputs": [
        {
          "output_type": "display_data",
          "data": {
            "text/plain": [
              "<Figure size 576x576 with 16 Axes>"
            ],
            "image/png": "[encoded data removed]"
          },
          "metadata": {
            "needs_background": "light"
          }
        }
      ],
      "source": [
        "# train 이미지 확인\n",
        "plt.figure(figsize=(8, 8))\n",
        "for i in range(16):\n",
        "    plt.subplot(4, 4, i+1)                    # plt.subplot(row, column, index)\n",
        "    plt.suptitle('Train Images', fontsize=20) # 하나의 큰 제목 설정\n",
        "    plt.imshow(x_train[i], cmap=plt.cm.gray)\n",
        "    plt.axis(\"off\")\n",
        "\n",
        "plt.show()"
      ]
    },
    {
      "cell_type": "markdown",
      "metadata": {
        "id": "qXtIzS_64yLl"
      },
      "source": [
        "## 2. 전처리"
      ]
    },
    {
      "cell_type": "code",
      "execution_count": 60,
      "metadata": {
        "id": "okFzV_2N4yLl"
      },
      "outputs": [],
      "source": [
        "x_train = x_train.reshape(x_train.shape[0], 28, 28, 1).astype('float32')\n",
        "x_train = (x_train - 127.5) / 127.5 \n",
        "\n",
        "BUFFER_SIZE = 60000\n",
        "BATCH_SIZE = 256\n",
        "noise_dim = 100\n",
        "\n",
        "train_dataset = tf.data.Dataset.from_tensor_slices(x_train).shuffle(BUFFER_SIZE).batch(BATCH_SIZE)"
      ]
    },
    {
      "cell_type": "markdown",
      "metadata": {
        "id": "5HCHDNMT4yLm"
      },
      "source": [
        "## 3. keras를 활용한 모델 생성\n",
        "### 3.1 생성모형 구축"
      ]
    },
    {
      "cell_type": "code",
      "execution_count": 61,
      "metadata": {
        "id": "aU55f0rL4yLm"
      },
      "outputs": [],
      "source": [
        "def make_generator_model():\n",
        "    model = tf.keras.Sequential()\n",
        "    model.add(layers.Dense(7*7*256, use_bias=False, input_shape=(100,)))\n",
        "    model.add(layers.BatchNormalization())\n",
        "    model.add(layers.LeakyReLU())\n",
        "\n",
        "    model.add(layers.Reshape((7, 7, 256)))\n",
        "\n",
        "    model.add(layers.Conv2DTranspose(128, (5, 5), strides=(1, 1), padding='same', use_bias=False))\n",
        "    model.add(layers.BatchNormalization())\n",
        "    model.add(layers.LeakyReLU())\n",
        "\n",
        "    model.add(layers.Conv2DTranspose(64, (5, 5), strides=(2, 2), padding='same', use_bias=False))\n",
        "    model.add(layers.BatchNormalization())\n",
        "    model.add(layers.LeakyReLU())\n",
        "\n",
        "    model.add(layers.Conv2DTranspose(1, (5, 5), strides=(2, 2), padding='same', use_bias=False, activation='tanh'))\n",
        "   \n",
        "    return model\n",
        "\n",
        "generator = make_generator_model()"
      ]
    },
    {
      "cell_type": "markdown",
      "metadata": {
        "id": "dD9lQhZT4yLm"
      },
      "source": [
        "### 3.2 구분모형 구축"
      ]
    },
    {
      "cell_type": "code",
      "execution_count": 62,
      "metadata": {
        "id": "KgCnkj1y4yLn"
      },
      "outputs": [],
      "source": [
        "def make_discriminator_model():\n",
        "    model = tf.keras.Sequential()\n",
        "    model.add(layers.Conv2D(64, (5, 5), strides=(2, 2), padding='same',\n",
        "                                     input_shape=[28, 28, 1]))\n",
        "    model.add(layers.LeakyReLU())\n",
        "    model.add(layers.Dropout(0.3))\n",
        "\n",
        "    model.add(layers.Conv2D(128, (5, 5), strides=(2, 2), padding='same'))\n",
        "    model.add(layers.LeakyReLU())\n",
        "    model.add(layers.Dropout(0.3))\n",
        "\n",
        "    model.add(layers.Flatten())\n",
        "    model.add(layers.Dense(1))\n",
        "   \n",
        "    return model\n",
        "\n",
        "discriminator = make_discriminator_model()"
      ]
    },
    {
      "cell_type": "markdown",
      "metadata": {
        "id": "rfX1LCgr4yLn"
      },
      "source": [
        "## 4. 신경망 모델 학습\n",
        "\n",
        "### 4.1 구분모형 손실함수 정의"
      ]
    },
    {
      "cell_type": "code",
      "execution_count": 63,
      "metadata": {
        "id": "lJm3FNjE4yLn"
      },
      "outputs": [],
      "source": [
        "cross_entropy = tf.keras.losses.BinaryCrossentropy(from_logits=True)\n",
        "\n",
        "def discriminator_loss(real_output, fake_output):\n",
        "    real_loss = cross_entropy(tf.ones_like(real_output), real_output)\n",
        "    fake_loss = cross_entropy(tf.zeros_like(fake_output), fake_output)\n",
        "    total_loss = real_loss + fake_loss\n",
        "    return total_loss"
      ]
    },
    {
      "cell_type": "markdown",
      "metadata": {
        "id": "_KllJeVQ4yLn"
      },
      "source": [
        "### 4.2. 생성모형 손실함수 정의"
      ]
    },
    {
      "cell_type": "code",
      "execution_count": 64,
      "metadata": {
        "id": "BSx76nCN4yLn"
      },
      "outputs": [],
      "source": [
        "def generator_loss(fake_output):\n",
        "    return cross_entropy(tf.ones_like(fake_output), fake_output)"
      ]
    },
    {
      "cell_type": "markdown",
      "metadata": {
        "id": "G2wl9z1u4yLo"
      },
      "source": [
        "### 4.3 최적화 알고리즘 정의"
      ]
    },
    {
      "cell_type": "code",
      "execution_count": 65,
      "metadata": {
        "id": "FOn0ubMt4yLo"
      },
      "outputs": [],
      "source": [
        "generator_optimizer = tf.keras.optimizers.Adam(1e-4)\n",
        "discriminator_optimizer = tf.keras.optimizers.Adam(1e-4)"
      ]
    },
    {
      "cell_type": "code",
      "execution_count": 66,
      "metadata": {
        "id": "jRBWxHif4yLo"
      },
      "outputs": [],
      "source": [
        "def train_step(images):\n",
        "    noise = tf.random.normal([BATCH_SIZE, noise_dim])\n",
        "\n",
        "    with tf.GradientTape() as gen_tape, tf.GradientTape() as disc_tape:\n",
        "        generated_images = generator(noise, training=True)\n",
        "\n",
        "        real_output = discriminator(images, training=True)\n",
        "        fake_output = discriminator(generated_images, training=True)\n",
        "\n",
        "        gen_loss = generator_loss(fake_output)\n",
        "        disc_loss = discriminator_loss(real_output, fake_output)\n",
        "\n",
        "    gradients_of_generator = gen_tape.gradient(gen_loss, generator.trainable_variables)\n",
        "    gradients_of_discriminator = disc_tape.gradient(disc_loss, discriminator.trainable_variables)\n",
        "\n",
        "    generator_optimizer.apply_gradients(zip(gradients_of_generator, generator.trainable_variables))\n",
        "    discriminator_optimizer.apply_gradients(zip(gradients_of_discriminator, discriminator.trainable_variables))"
      ]
    },
    {
      "cell_type": "code",
      "execution_count": 67,
      "metadata": {
        "id": "F4-SsmxV4yLp"
      },
      "outputs": [],
      "source": [
        "def train(dataset, epochs):\n",
        "    for epoch in range(epochs):\n",
        "        start = time.time()\n",
        "        for image_batch in dataset:\n",
        "            train_step(image_batch)\n",
        "        end = time.time()\n",
        "        print ('Time for epoch {} is {} sec'.format(epoch + 1, end-start))"
      ]
    },
    {
      "cell_type": "code",
      "execution_count": 68,
      "metadata": {
        "colab": {
          "base_uri": "https://localhost:8080/"
        },
        "id": "O62O9MOK4yLp",
        "outputId": "8caee2b7-5779-4372-8f64-33a060aea5fe"
      },
      "outputs": [
        {
          "output_type": "stream",
          "name": "stdout",
          "text": [
            "Time for epoch 1 is 35.12040710449219 sec\n",
            "Time for epoch 2 is 25.38134765625 sec\n",
            "Time for epoch 3 is 23.504241466522217 sec\n",
            "Time for epoch 4 is 23.92603087425232 sec\n",
            "Time for epoch 5 is 23.927464246749878 sec\n",
            "Time for epoch 6 is 23.741941690444946 sec\n",
            "Time for epoch 7 is 24.04710602760315 sec\n",
            "Time for epoch 8 is 23.742584705352783 sec\n",
            "Time for epoch 9 is 23.755187034606934 sec\n",
            "Time for epoch 10 is 23.7379891872406 sec\n",
            "Time for epoch 11 is 24.07156014442444 sec\n",
            "Time for epoch 12 is 24.076233386993408 sec\n",
            "Time for epoch 13 is 23.843294143676758 sec\n",
            "Time for epoch 14 is 23.80284595489502 sec\n",
            "Time for epoch 15 is 23.658571481704712 sec\n",
            "Time for epoch 16 is 23.62912392616272 sec\n",
            "Time for epoch 17 is 23.65412425994873 sec\n",
            "Time for epoch 18 is 23.60579252243042 sec\n",
            "Time for epoch 19 is 23.72640037536621 sec\n",
            "Time for epoch 20 is 23.827637195587158 sec\n",
            "Time for epoch 21 is 23.733643293380737 sec\n",
            "Time for epoch 22 is 23.776232957839966 sec\n",
            "Time for epoch 23 is 23.728172540664673 sec\n",
            "Time for epoch 24 is 23.650270462036133 sec\n",
            "Time for epoch 25 is 23.633357763290405 sec\n",
            "Time for epoch 26 is 23.694803953170776 sec\n",
            "Time for epoch 27 is 23.70910096168518 sec\n",
            "Time for epoch 28 is 23.568432092666626 sec\n",
            "Time for epoch 29 is 23.6716091632843 sec\n",
            "Time for epoch 30 is 41.048367977142334 sec\n"
          ]
        }
      ],
      "source": [
        "EPOCHS = 30\n",
        "train(train_dataset, EPOCHS)"
      ]
    },
    {
      "cell_type": "markdown",
      "metadata": {
        "id": "_TgmYfPz4yLp"
      },
      "source": [
        "## 6. 학습한 GAN  모델 평가\n",
        "### 그림 그려보기"
      ]
    },
    {
      "cell_type": "code",
      "execution_count": 70,
      "metadata": {
        "colab": {
          "base_uri": "https://localhost:8080/",
          "height": 248
        },
        "id": "Uk0aiXbw4yLq",
        "outputId": "8fa3c795-b506-4489-f88a-a0b4b846f5c3"
      },
      "outputs": [
        {
          "output_type": "display_data",
          "data": {
            "text/plain": [
              "<Figure size 288x288 with 16 Axes>"
            ],
            "image/png": "[encoded data removed]"
          },
          "metadata": {
            "needs_background": "light"
          }
        }
      ],
      "source": [
        "num_examples_to_generate = 16\n",
        "seed = tf.random.normal([num_examples_to_generate, noise_dim])\n",
        "gen_images = generator(seed, training=False)\n",
        "\n",
        "fig = plt.figure(figsize=(4,4))\n",
        "for i in range(gen_images.shape[0]):\n",
        "    plt.subplot(4, 4, i+1)\n",
        "    plt.imshow(gen_images[i, :, :, 0] * 127.5 + 127.5, cmap='gray')\n",
        "    plt.axis('off')"
      ]
    }
  ],
  "metadata": {
    "kernelspec": {
      "display_name": "Python 3.6",
      "language": "python",
      "name": "python3.6"
    },
    "language_info": {
      "codemirror_mode": {
        "name": "ipython",
        "version": 3
      },
      "file_extension": ".py",
      "mimetype": "text/x-python",
      "name": "python",
      "nbconvert_exporter": "python",
      "pygments_lexer": "ipython3",
      "version": "3.6.12"
    },
    "colab": {
      "name": "DeepLearning2.ipynb",
      "provenance": [],
      "collapsed_sections": []
    },
    "accelerator": "GPU",
    "gpuClass": "standard"
  },
  "nbformat": 4,
  "nbformat_minor": 0
}